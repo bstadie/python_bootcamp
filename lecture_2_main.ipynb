{
 "cells": [
  {
   "cell_type": "code",
   "execution_count": 9,
   "metadata": {},
   "outputs": [
    {
     "name": "stdout",
     "output_type": "stream",
     "text": [
      "Requirement already satisfied: names in /Users/bradlystadie/anaconda3/lib/python3.10/site-packages (0.3.0)\n"
     ]
    }
   ],
   "source": [
    "!pip install names"
   ]
  },
  {
   "cell_type": "code",
   "execution_count": 10,
   "metadata": {},
   "outputs": [],
   "source": [
    "\n",
    "import names\n"
   ]
  },
  {
   "cell_type": "markdown",
   "metadata": {},
   "source": [
    "We want to generate a bunch of names "
   ]
  },
  {
   "cell_type": "code",
   "execution_count": 11,
   "metadata": {},
   "outputs": [
    {
     "name": "stdout",
     "output_type": "stream",
     "text": [
      "All names ['Mark Meehleder', 'Robert Thomas', 'Judy Myatt', 'Kimberly Parker', 'Phillip Killion', 'Theresa Shyne', 'Anthony Kelley', 'Stacey Murray', 'Reuben Whitfield', 'Susanne Banks', 'Hester Durrant', 'Mabel Angle', 'Thomas Thompson', 'Kevin Part', 'Phyllis Ingram', 'Cameron King', 'Ella Adams', 'Crystal Frija', 'Kevin Hart', 'Toni Baran']\n",
      "Judy Myatt\n",
      "Found name that starts with A: Anthony Kelley\n"
     ]
    }
   ],
   "source": [
    "generated_names = []\n",
    "for i in range(20):\n",
    "    one_name = names.get_full_name()\n",
    "    generated_names.append(one_name)\n",
    "print(F\"All names {generated_names}\")\n",
    "\n",
    "\n",
    "# Want the third name\n",
    "\n",
    "third_name = generated_names[2]\n",
    "print(third_name)\n",
    "\n",
    "# Want a name that starts with an A. \n",
    "\n",
    "for name in generated_names:\n",
    "    if name[0] == 'A':\n",
    "        print(F\"Found name that starts with A: {name}\")"
   ]
  },
  {
   "cell_type": "code",
   "execution_count": 12,
   "metadata": {},
   "outputs": [
    {
     "name": "stdout",
     "output_type": "stream",
     "text": [
      "{'rita james': 'math'}\n",
      "economics\n"
     ]
    },
    {
     "name": "stdout",
     "output_type": "stream",
     "text": [
      "{'Alyssa Weekes': 'math',\n",
      " 'Amy Hatcher': 'cs',\n",
      " 'Anthony Quinn': 'math',\n",
      " 'Betty Conner': 'economics',\n",
      " 'Christopher Gorby': 'math',\n",
      " 'Jacob Farrow': 'statistics',\n",
      " 'James Cooper': 'economics',\n",
      " 'Joanne Williams': 'economics',\n",
      " 'John Prevost': 'cs',\n",
      " 'Johnny Maruschak': 'cs',\n",
      " 'Jose Vangundy': 'economics',\n",
      " 'Julia Smith': 'economics',\n",
      " 'Major James': 'statistics',\n",
      " 'Michael Nicolls': 'history',\n",
      " 'Michelle Counselman': 'math',\n",
      " 'Patrick Vickers': 'history',\n",
      " 'Roger Harner': 'cs',\n",
      " 'Roseann Coe': 'cs',\n",
      " 'Scott Higbee': 'cs',\n",
      " 'Terrell Flaherty': 'math',\n",
      " 'rita james': 'math'}\n"
     ]
    }
   ],
   "source": [
    "possible_majors = ['math', 'statistics', 'economics', 'history', 'cs']\n",
    "\n",
    "student_roster = dict()\n",
    "\n",
    "student_roster['rita james'] = 'math'\n",
    "\n",
    "print(student_roster)\n",
    "\n",
    "import random\n",
    "\n",
    "# use gpt here for how we can sample from a list. \n",
    "\n",
    "random_element = random.choice(possible_majors)\n",
    "print(random_element)\n",
    "\n",
    "for i in range(20):\n",
    "    one_name = names.get_full_name()\n",
    "    one_major = random.choice(possible_majors)\n",
    "    student_roster[one_name] = one_major\n",
    "\n",
    "#print(student_roster)\n",
    "import pprint\n",
    "pprint.pprint(student_roster)"
   ]
  },
  {
   "cell_type": "markdown",
   "metadata": {},
   "source": [
    "See below for a get random birthdaye function"
   ]
  },
  {
   "cell_type": "code",
   "execution_count": 13,
   "metadata": {},
   "outputs": [
    {
     "name": "stdout",
     "output_type": "stream",
     "text": [
      "Student 3 major: economics\n",
      "Student 5 birth date: 2003-06-04\n"
     ]
    }
   ],
   "source": [
    "class Student:\n",
    "    def __init__(self, student_name, major=None, birth_date=None):\n",
    "        self.student_name = student_name\n",
    "        self.major = major\n",
    "        self.birth_date = birth_date\n",
    "\n",
    "all_students = []\n",
    "for i in range(20):\n",
    "    one_name = names.get_full_name()\n",
    "    one_major = random.choice(possible_majors)\n",
    "    one_student = Student(student_name=one_name, major=one_major)\n",
    "    all_students.append(one_student)\n",
    "\n",
    "\n",
    "print(F\"Student {3} major: {all_students[2].major}\")\n",
    "\n",
    "# use the print statement in the get random function. \n",
    "# mention that you need to recompile the function! \n",
    "for student in all_students:\n",
    "    one_birth_date = get_random_birthdate()\n",
    "    student.birth_date = one_birth_date\n",
    "\n",
    "print(F\"Student 5 birth date: {all_students[4].birth_date}\")\n",
    "\n",
    "        "
   ]
  },
  {
   "cell_type": "code",
   "execution_count": 14,
   "metadata": {},
   "outputs": [
    {
     "name": "stdout",
     "output_type": "stream",
     "text": [
      "One birthday: 2001-01-11\n"
     ]
    }
   ],
   "source": [
    "from datetime import datetime, timedelta\n",
    "def get_random_birthdate():\n",
    "    start_date = datetime(1998, 1, 1)\n",
    "    end_date = datetime(2005, 1, 1)\n",
    "\n",
    "    # Calculate the total number of days\n",
    "    total_days = (end_date - start_date).days\n",
    "\n",
    "    # Generate a random number of days between 0 and the total number of days\n",
    "    random_days = random.randint(0, total_days)\n",
    "\n",
    "    # Add the random number of days to the start date\n",
    "    random_date = start_date + timedelta(days=random_days)\n",
    "\n",
    "    # Format the random date as a string\n",
    "    random_date_str = random_date.strftime(\"%Y-%m-%d\")\n",
    "\n",
    "    #print(\"Random date:\", random_date_str)\n",
    "    return random_date_str\n",
    "\n",
    "bd = get_random_birthdate()\n",
    "print(F\"One birthday: {bd}\")"
   ]
  },
  {
   "cell_type": "code",
   "execution_count": 22,
   "metadata": {},
   "outputs": [
    {
     "name": "stdout",
     "output_type": "stream",
     "text": [
      "2003\n",
      "2003-12-15\n",
      "Student 3 age is: 20. They were born in: 2003\n"
     ]
    }
   ],
   "source": [
    "from datetime import datetime, date\n",
    "\n",
    "class Student:\n",
    "    def __init__(self, student_name, major=None, birth_date=None):\n",
    "        self.student_name = student_name\n",
    "        self.major = major\n",
    "        self.birth_date = birth_date\n",
    "    \n",
    "    def get_birth_year(self):\n",
    "        datetime_obj = datetime.strptime(self.birth_date, '%Y-%m-%d')\n",
    "        year = datetime_obj.year\n",
    "        print(year)\n",
    "        return year\n",
    "        #print(datetime_obj)\n",
    "\n",
    "    def compute_age(self):\n",
    "        current_date = date.today()\n",
    "        print(self.birth_date)\n",
    "        years = current_date.year - int(self.birth_date[0:4])\n",
    "        return years\n",
    "\n",
    "all_students = []\n",
    "for i in range(20):\n",
    "    one_name = names.get_full_name()\n",
    "    one_major = random.choice(possible_majors)\n",
    "    one_student = Student(student_name=one_name, major=one_major)\n",
    "    all_students.append(one_student)\n",
    "\n",
    "\n",
    "# print(F\"Student {3} major: {all_students[2].major}\")\n",
    "\n",
    "# use the print statement in the get random function. \n",
    "# mention that you need to recompile the function! \n",
    "for student in all_students:\n",
    "    one_birth_date = get_random_birthdate()\n",
    "    student.birth_date = one_birth_date\n",
    "\n",
    "student_three_birth_year = all_students[2].get_birth_year()\n",
    "student_three_age = all_students[2].compute_age()\n",
    "print(F\"Student 3 age is: {student_three_age}. They were born in: {student_three_birth_year}\")\n",
    "\n",
    "# print(F\"Student 5 birth date: {all_students[4].birth_date}\")\n"
   ]
  }
 ],
 "metadata": {
  "kernelspec": {
   "display_name": "homeworkenv",
   "language": "python",
   "name": "python3"
  },
  "language_info": {
   "codemirror_mode": {
    "name": "ipython",
    "version": 3
   },
   "file_extension": ".py",
   "mimetype": "text/x-python",
   "name": "python",
   "nbconvert_exporter": "python",
   "pygments_lexer": "ipython3",
   "version": "3.10.9"
  },
  "orig_nbformat": 4
 },
 "nbformat": 4,
 "nbformat_minor": 2
}
