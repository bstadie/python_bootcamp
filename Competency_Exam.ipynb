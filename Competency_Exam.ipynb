{
 "cells": [
  {
   "cell_type": "markdown",
   "metadata": {
    "id": "79mb0ZMfqDVG"
   },
   "source": [
    "## Exam Instruction"
   ]
  },
  {
   "cell_type": "markdown",
   "metadata": {
    "id": "y0DuDB7Cl8Hd"
   },
   "source": [
    "**Files Provided:**\n",
    "\n",
    "1. **`companies.csv`**: A dataset containing details of S&P 500 companies.\n",
    "    - **Columns**:\n",
    "        - `Name`: Name of the company.\n",
    "        - `Ticker`: Stock ticker symbol of the company.\n",
    "        - `Sector`: Industry sector to which the company belongs.\n",
    "\n",
    "2. **`stock_prices.csv`**: A dataset with daily stock prices for the past year for the companies listed in `companies.csv`.\n",
    "    - **Columns**:\n",
    "        - Company tickers derived from the `companies.csv` file.\n",
    "    - **Note**: The values in this dataset may not be exclusively in float type. There could be instances of `strings` and `NaN` types, which need to be handled for certain tasks.\n",
    "\n",
    "**Tasks:**\n",
    "\n",
    "**1. Plot Stock Prices vs. Time for Two Companies in One Plot:**\n",
    "\n",
    "*Instructions:*\n",
    "Plot the stock prices of **`ONEOK`** and **`Colgate-Palmolive`** against time for the past year. Make sure to label the x and y axes and show the title and legend. Also, the x axis should include date information.\n",
    "\n",
    "**2. Plot Average Stock Price for Each Sector:**\n",
    "\n",
    "*Instructions:*\n",
    "First calculate the stock-level average price over the past year. Then, using the average of each stock over the past year, calculate the sector-level average price. Finaly, plot the sector-level average price. You can use any method of plotting. For example, bar chart. \n",
    "\n",
    "Elaborating, suppose that there are three stocks: A, B, C. You are given the prices over a year. First compute the mean price in mu_A, mu_B, and mu_C over the year. \n",
    "Then, group the stocks by sector. For example, stocks A and B might be in the Tech sector and C might be in the Medical sector. Then, compute the average over all stocks in each sector. In this case, we mu_tech = (mu_A + mu_B) / 2\n"
   ]
  },
  {
   "cell_type": "code",
   "execution_count": null,
   "metadata": {
    "id": "i6lE5TrL5sEz"
   },
   "outputs": [],
   "source": []
  }
 ],
 "metadata": {
  "colab": {
   "provenance": []
  },
  "kernelspec": {
   "display_name": "Python 3 (ipykernel)",
   "language": "python",
   "name": "python3"
  },
  "language_info": {
   "codemirror_mode": {
    "name": "ipython",
    "version": 3
   },
   "file_extension": ".py",
   "mimetype": "text/x-python",
   "name": "python",
   "nbconvert_exporter": "python",
   "pygments_lexer": "ipython3",
   "version": "3.9.13"
  }
 },
 "nbformat": 4,
 "nbformat_minor": 1
}
