{
  "cells": [
    {
      "cell_type": "markdown",
      "metadata": {
        "id": "8dnvmN4Uo_UP"
      },
      "source": [
        "## Homework Instruction: Stock Trading Simulation\n",
        "\n",
        "**Objective**: Use the concepts of Python you've learned in the last two lectures to design a simple stock trading algorithm. The goal is to maximize your money by the end of day 100.\n",
        "\n",
        "### Description:\n",
        "\n",
        "1. **StockMarket Class**:\n",
        "   - This class is provisws as-is. DO NOT modify this class.\n",
        "   - It has a method named `advance_one_day` which simulates the stock market for one day. If the price of a stock drops below $0.01, you will no longer be able to trade it, and the number of shares of that stock in your portfolio will become 0.\n",
        "   - It has a method named `get_stock_prices` which returns the current stock price.\n",
        "\n",
        "2. **Portfolio Class**:\n",
        "   - This class is provisws as-is. DO NOT modify this class.\n",
        "   - **Attributes**:\n",
        "     - `cash`: the amount of money you currently have.\n",
        "     - `stocks`: number of different stocks you currently own.\n",
        "   - **Methods**:\n",
        "     - `buy`: purchase k shares of a given stock.\n",
        "       - Input: ticker of the stock (`stock_ticker`), number of shares (`k`), the current price of the given stock (`stock_price`).\n",
        "       - Deduct cash by `(stock price * k) + 0.50` (50 cents fee for each transaction).\n",
        "       - Update stocks attribute.\n",
        "     - `sell`: sell k shares of a stock.\n",
        "       - Input: ticker of the stock (`stock_ticker`), number of shares (`k`), the current price of the given stock (`stock_price`).\n",
        "       - Add to cash by `(stock price * k) - 0.50` (50 cents fee for each transaction).\n",
        "       - Update stocks attribute.\n",
        "\n",
        "3. **Your Task**:\n",
        "   - For each day until day 100:\n",
        "     - Use `get_stock_prices` method to get the current stock prices.\n",
        "     - Decide whether to buy/sell stocks based on the current stock prices.\n",
        "     - Use `advance_one_day` method to move to the next day.\n",
        "   - You may write any helper functions you need, as long as you don't change the code of both classes.\n",
        "   - Your goal is to have as much money as possible by the end of day 100.\n",
        "\n",
        "**Steps**:\n",
        "\n",
        "1. Initialize the stock market and your portfolio.\n",
        "2. Loop through each day and make buy/sell decisions.\n",
        "3. Use the `advance_one_day` function to progress through the simulation.\n",
        "4. At the end of day 100, compute and print the total value (cash and stock values) of your portfolio.\n"
      ]
    },
    {
      "cell_type": "markdown",
      "metadata": {
        "id": "SqsmKhrlpEIP"
      },
      "source": [
        "## Skeleton Code:"
      ]
    },
    {
      "cell_type": "code",
      "execution_count": null,
      "metadata": {
        "id": "cLiLRJd2oybp"
      },
      "outputs": [],
      "source": [
        "import numpy as np\n",
        "import random\n",
        "import string\n",
        "\n",
        "class StockMarket:\n",
        "    def __init__(self, stock_tickers):\n",
        "        self.stock_prices = {ticker: np.random.uniform(10, 100) for ticker in stock_tickers}\n",
        "        self.deltas = {ticker: self.get_new_delta() for ticker in stock_tickers}\n",
        "        self.days_since_last_change = {ticker: 0 for ticker in stock_tickers}\n",
        "\n",
        "    def get_new_delta(self):\n",
        "        return np.random.normal(0, 0.03)\n",
        "\n",
        "    def advance_one_day(self):\n",
        "        for ticker in self.stock_prices:\n",
        "            if self.stock_prices[ticker] < 0.01:\n",
        "                continue\n",
        "            chance_of_change = 0.1 + 0.1 * self.days_since_last_change[ticker]\n",
        "            if np.random.rand() < chance_of_change:\n",
        "                self.deltas[ticker] = self.get_new_delta()\n",
        "                self.days_since_last_change[ticker] = 0\n",
        "            self.stock_prices[ticker] *= (1 + self.deltas[ticker])\n",
        "            self.days_since_last_change[ticker] += 1\n",
        "\n",
        "    def get_stock_prices(self):\n",
        "        return self.stock_prices\n",
        "\n",
        "class Portfolio:\n",
        "    def __init__(self, initial_cash):\n",
        "        self.cash = initial_cash\n",
        "        self.stocks = {}\n",
        "\n",
        "    def buy(self, stock_ticker, k, stock_price):\n",
        "        if stock_price < 0.01:\n",
        "            self.stocks[stock_ticker] = 0\n",
        "            return\n",
        "        total_cost = (stock_price * k) + 0.50\n",
        "        if self.cash >= total_cost:\n",
        "            self.cash -= total_cost\n",
        "            self.stocks[stock_ticker] = self.stocks.get(stock_ticker, 0) + k\n",
        "\n",
        "    def sell(self, stock_ticker, k, stock_price):\n",
        "        if stock_price < 0.01:\n",
        "            self.stocks[stock_ticker] = 0\n",
        "            return\n",
        "        if stock_ticker in self.stocks and self.stocks[stock_ticker] >= k:\n",
        "            self.cash += (stock_price * k) - 0.50\n",
        "            self.stocks[stock_ticker] -= k\n",
        "            if self.stocks[stock_ticker] == 0:\n",
        "                del self.stocks[stock_ticker]\n",
        "\n",
        "def generate_stock_ticker(length=4):\n",
        "    \"\"\"\n",
        "    randomly generates a stock ticker containing upper case letters and numbers with the given length\n",
        "    \"\"\"\n",
        "    letters = string.ascii_uppercase\n",
        "    numbers = string.digits\n",
        "    ticker = ''.join(random.choice(letters + numbers) for _ in range(length))\n",
        "    return ticker\n",
        "\n",
        "STOCK_TICKERS = [generate_stock_ticker() for _ in range(6)]\n",
        "INITIAL_CASH = 1000\n",
        "\n",
        "def main():\n",
        "    ## TODO: Replace the following code with your algorithm\n",
        "    final_value = 0\n",
        "    print(f\"Total value of portfolio after 100 days: ${final_value:.2f}\")\n",
        "\n",
        "if __name__ == \"__main__\":\n",
        "    main()\n"
      ]
    },
    {
      "cell_type": "markdown",
      "metadata": {
        "id": "axyFmOJcF-wm"
      },
      "source": [
        "## Sample Solution"
      ]
    },
    {
      "cell_type": "code",
      "execution_count": null,
      "metadata": {
        "id": "aLXv7WBBPn_U"
      },
      "outputs": [],
      "source": []
    }
  ],
  "metadata": {
    "colab": {
      "provenance": []
    },
    "kernelspec": {
      "display_name": "Python 3",
      "name": "python3"
    },
    "language_info": {
      "name": "python"
    }
  },
  "nbformat": 4,
  "nbformat_minor": 0
}
